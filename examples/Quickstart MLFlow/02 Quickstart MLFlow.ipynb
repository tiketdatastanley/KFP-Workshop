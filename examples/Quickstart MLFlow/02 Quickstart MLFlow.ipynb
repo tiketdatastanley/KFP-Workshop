{
 "cells": [
  {
   "cell_type": "markdown",
   "metadata": {},
   "source": [
    "# Hello MLflow"
   ]
  },
  {
   "cell_type": "markdown",
   "metadata": {},
   "source": [
    "MLflow is an open-source platform that provides a way to manage the machine learning lifecycle by allowing users to track experiments, package code, and deploy models across different frameworks. In this notebook, we will be taking a look at the following MLflow components:\n",
    "- MLflow Tracking - used for **tracking** machine learning experiments\n",
    "- MLflow Registry - used for **versioning** MLflow models\n",
    "- MLflow Model - used for **packaging** machine learning models\n",
    "\n",
    "To begin, let's first install the required dependencies:\n",
    "\n",
    "```bash\n",
    "pip install -r requirements.txt\n",
    "```"
   ]
  },
  {
   "cell_type": "markdown",
   "metadata": {},
   "source": [
    "## MLflow Tracking"
   ]
  },
  {
   "cell_type": "code",
   "execution_count": 1,
   "metadata": {},
   "outputs": [],
   "source": [
    "import mlflow\n",
    "\n",
    "\n",
    "MLFLOW_TRACKING_URI = \"https://mlflow.test-data-cluster.tiket.com/\" \n",
    "\n",
    "# This will tell mlflow which server to log to. \n",
    "mlflow.set_tracking_uri(MLFLOW_TRACKING_URI)"
   ]
  },
  {
   "cell_type": "markdown",
   "metadata": {},
   "source": [
    "### Experiments & Runs\n",
    "\n",
    "A **run** represents a single code execution within a machine learning project. These runs are grouped together inside an **experiment**."
   ]
  },
  {
   "cell_type": "code",
   "execution_count": 8,
   "metadata": {},
   "outputs": [
    {
     "data": {
      "text/plain": [
       "<Experiment: artifact_location='gs://dev_caelum_model_repo/mlflow/14', creation_time=1689264199195, experiment_id='14', last_update_time=1689264199195, lifecycle_stage='active', name='workshop-playground', tags={}>"
      ]
     },
     "execution_count": 8,
     "metadata": {},
     "output_type": "execute_result"
    }
   ],
   "source": [
    "MLFLOW_EXPERIMENT = \"workshop-playground\"\n",
    "\n",
    "# this will create a new experiment, if an experiment with the same\n",
    "# name exists, this will raise an exception\n",
    "mlflow.create_experiment(MLFLOW_EXPERIMENT)\n",
    "\n",
    "# this will set the default experiment to the specified value,\n",
    "# if the experiment does not exist, it will automatically create a new experiment\n",
    "mlflow.set_experiment(MLFLOW_EXPERIMENT)"
   ]
  },
  {
   "cell_type": "code",
   "execution_count": 9,
   "metadata": {},
   "outputs": [],
   "source": [
    "# this will create a single run that does not contain any data\n",
    "with mlflow.start_run():\n",
    "    pass"
   ]
  },
  {
   "cell_type": "markdown",
   "metadata": {},
   "source": [
    "A new run should be created in the tracking server UI under the `playground` experiment."
   ]
  },
  {
   "cell_type": "markdown",
   "metadata": {},
   "source": [
    "### Logging Parameters and Metrics\n",
    "\n",
    "The term **logging** simply means to record or save information. In this example, we will be saving the parameters and metrics used during the training of a machine learning model."
   ]
  },
  {
   "cell_type": "code",
   "execution_count": 10,
   "metadata": {},
   "outputs": [],
   "source": [
    "# parameters and metrics does not necessarily refer to ML model parameters and metrics. It can be any configuration when training the model, and any metric that you want to track.\n",
    "parameters = {\"lr\": 0.005, \"dataset_version\": \"v1.0\"}\n",
    "metrics = {\"loss\": 0.0001, \"accuracy\": 0.98}\n",
    "\n",
    "with mlflow.start_run(run_name=\"logging-metadata-1\"):\n",
    "    mlflow.log_params(parameters)\n",
    "    mlflow.log_metrics(metrics)"
   ]
  },
  {
   "cell_type": "markdown",
   "metadata": {},
   "source": [
    "### Logging Models\n",
    "Let's try to do simple logging sklearn models"
   ]
  },
  {
   "cell_type": "code",
   "execution_count": 11,
   "metadata": {},
   "outputs": [
    {
     "name": "stdout",
     "output_type": "stream",
     "text": [
      "|    |      x0 |      x1 |       y |\n",
      "|---:|--------:|--------:|--------:|\n",
      "|  0 | 5.47231 | 1.12251 | 12.923  |\n",
      "|  1 | 8.96003 | 7.0727  | 13.0109 |\n",
      "|  2 | 7.49247 | 6.34766 | 10.6685 |\n"
     ]
    }
   ],
   "source": [
    "import pandas as pd\n",
    "import numpy as np\n",
    "\n",
    "# Sample Data\n",
    "rows = 1000\n",
    "data = pd.DataFrame(\n",
    "    {\n",
    "        \"x0\" : np.random.random(rows) * 10,\n",
    "        \"x1\" : np.random.random(rows) * 10\n",
    "    }\n",
    ")\n",
    "A, B = 2.5, -1.33\n",
    "data[\"y\"] = A * data[\"x0\"] + B * data[\"x1\"] + np.random.random(rows)\n",
    "print(data.head(3).to_markdown())"
   ]
  },
  {
   "cell_type": "code",
   "execution_count": 12,
   "metadata": {},
   "outputs": [],
   "source": [
    "from sklearn.linear_model import LinearRegression\n",
    "from sklearn.metrics import mean_absolute_error\n",
    "\n",
    "\n",
    "with mlflow.start_run(run_name=\"sklearn-linear-2\"):\n",
    "    # Train the model\n",
    "    parameters = {\"positive\": True}\n",
    "    metrics = {\"mae\": None}\n",
    "    model = LinearRegression(**parameters)\n",
    "    \n",
    "    X, y = data[[\"x0\", \"x1\"]], data[\"y\"]\n",
    "    model.fit(X, y)\n",
    "\n",
    "    y_pred = model.predict(X)\n",
    "\n",
    "    metrics = {\"mae\": mean_absolute_error(y_pred, y)}\n",
    "\n",
    "    # Log the parameters and metrics\n",
    "    mlflow.log_params(parameters)\n",
    "    mlflow.log_metrics(metrics)\n",
    "    mlflow.sklearn.log_model(\n",
    "        sk_model=model,\n",
    "        artifact_path=\"model-linear-regression\"\n",
    "    )\n",
    "    "
   ]
  }
 ],
 "metadata": {
  "interpreter": {
   "hash": "5b3ded1ccb95c1d9bd405e7b823d9e85424cde40fbb5985eb47e999ef50e15b4"
  },
  "kernelspec": {
   "display_name": "Python 3.8.10 64-bit",
   "language": "python",
   "name": "python3"
  },
  "language_info": {
   "codemirror_mode": {
    "name": "ipython",
    "version": 3
   },
   "file_extension": ".py",
   "mimetype": "text/x-python",
   "name": "python",
   "nbconvert_exporter": "python",
   "pygments_lexer": "ipython3",
   "version": "3.8.17"
  },
  "orig_nbformat": 4
 },
 "nbformat": 4,
 "nbformat_minor": 2
}
