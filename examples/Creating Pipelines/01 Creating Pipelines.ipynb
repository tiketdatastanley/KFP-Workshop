{
 "cells": [
  {
   "cell_type": "code",
   "execution_count": 15,
   "metadata": {},
   "outputs": [],
   "source": [
    "from typing import NamedTuple\n",
    "\n",
    "import kfp\n",
    "from kfp.compiler import Compiler\n",
    "from kfp.dsl import ContainerOp, pipeline\n",
    "from kfp.components import create_component_from_func\n"
   ]
  },
  {
   "cell_type": "code",
   "execution_count": 16,
   "metadata": {},
   "outputs": [],
   "source": [
    "def add_op(num1: int, num2: int) -> NamedTuple(\"Outputs\", [(\"result\", int)]):\n",
    "    from utility import imported_func\n",
    "\n",
    "    imported_func()\n",
    "\n",
    "    return (num1 + num2,)\n",
    "\n",
    "def substract_op(num1: int, num2: int) -> NamedTuple(\"Outputs\", [(\"result\", int)]):\n",
    "    from utility import imported_func\n",
    "\n",
    "    imported_func()\n",
    "    \n",
    "    return (num1 - num2,)"
   ]
  },
  {
   "cell_type": "code",
   "execution_count": null,
   "metadata": {},
   "outputs": [],
   "source": [
    "@pipeline()\n",
    "def pipeline_func(\n",
    "    num1: int, # addition num\n",
    "    num2: int, # addition num\n",
    "    num3: int, # substract num\n",
    "    docker_image_tag: str\n",
    "):\n",
    "    docker_image = f\"asia-docker.pkg.dev/tk-test-data/kubebuild/workshop/train_model:{docker_image_tag}\"\n",
    "    \n",
    "    op1 = create_component_from_func(add_op)(num1, num2)\n",
    "    op1.container.image = docker_image\n",
    "    result_op1 = op1.outputs[\"result\"]\n",
    "\n",
    "    op2 = create_component_from_func(substract_op)(result_op1, num3)\n",
    "    op2.container.image = docker_image\n",
    "    op2.after(op1)\n",
    "    "
   ]
  },
  {
   "cell_type": "code",
   "execution_count": null,
   "metadata": {},
   "outputs": [],
   "source": [
    "import os\n",
    "\n",
    "Compiler().compile(\n",
    "    pipeline_func=pipeline_func,\n",
    "    package_path=os.path.join(\".template\", \"pipeline.yml\"),\n",
    ")"
   ]
  }
 ],
 "metadata": {
  "interpreter": {
   "hash": "d4d1e4263499bec80672ea0156c357c1ee493ec2b1c70f0acce89fc37c4a6abe"
  },
  "kernelspec": {
   "display_name": "Python 3.8.10 ('base')",
   "language": "python",
   "name": "python3"
  },
  "language_info": {
   "codemirror_mode": {
    "name": "ipython",
    "version": 3
   },
   "file_extension": ".py",
   "mimetype": "text/x-python",
   "name": "python",
   "nbconvert_exporter": "python",
   "pygments_lexer": "ipython3",
   "version": "3.8.10"
  },
  "orig_nbformat": 4
 },
 "nbformat": 4,
 "nbformat_minor": 2
}
